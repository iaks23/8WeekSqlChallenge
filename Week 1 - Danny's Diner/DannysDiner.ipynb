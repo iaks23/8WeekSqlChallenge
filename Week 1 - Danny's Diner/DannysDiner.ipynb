{
    "metadata": {
        "kernelspec": {
            "name": "SQL",
            "display_name": "SQL",
            "language": "sql"
        },
        "language_info": {
            "name": "sql",
            "version": ""
        },
        "extensions": {
            "azuredatastudio": {
                "version": 1,
                "views": []
            }
        }
    },
    "nbformat_minor": 2,
    "nbformat": 4,
    "cells": [
        {
            "cell_type": "code",
            "source": [
                "/* What is the total amount each customer spent at the restaurant? */\n",
                "select s.customer_id AS MEMBER_NAME, SUM(m.price) AS AMOUNT_SPENT\n",
                "FROM sales AS s INNER JOIN menu AS m \n",
                "ON s.product_id = m.product_id\n",
                "GROUP BY customer_id\n",
                "ORDER BY customer_id;"
            ],
            "metadata": {
                "azdata_cell_guid": "58ab6f50-1655-4ead-bd31-a3eea416eeb0",
                "tags": []
            },
            "outputs": [
                {
                    "output_type": "display_data",
                    "data": {
                        "text/html": "(3 rows affected)"
                    },
                    "metadata": {}
                },
                {
                    "output_type": "display_data",
                    "data": {
                        "text/html": "Total execution time: 00:00:00.141"
                    },
                    "metadata": {}
                },
                {
                    "output_type": "execute_result",
                    "metadata": {},
                    "execution_count": 1,
                    "data": {
                        "application/vnd.dataresource+json": {
                            "schema": {
                                "fields": [
                                    {
                                        "name": "MEMBER_NAME"
                                    },
                                    {
                                        "name": "AMOUNT_SPENT"
                                    }
                                ]
                            },
                            "data": [
                                {
                                    "0": "A",
                                    "1": "76"
                                },
                                {
                                    "0": "B",
                                    "1": "74"
                                },
                                {
                                    "0": "C",
                                    "1": "36"
                                }
                            ]
                        },
                        "text/html": [
                            "<table>",
                            "<tr><th>MEMBER_NAME</th><th>AMOUNT_SPENT</th></tr>",
                            "<tr><td>A</td><td>76</td></tr>",
                            "<tr><td>B</td><td>74</td></tr>",
                            "<tr><td>C</td><td>36</td></tr>",
                            "</table>"
                        ]
                    }
                }
            ],
            "execution_count": 1
        },
        {
            "cell_type": "code",
            "source": [
                "/* How many days has each customer visited the restaurant? */\n",
                "SELECT customer_id AS MEMBER_NAME, COUNT(DISTINCT order_date) AS NO_OF_DAYS_VISITED\n",
                "FROM sales\n",
                "GROUP BY customer_id;\n",
                ""
            ],
            "metadata": {
                "azdata_cell_guid": "923cb49c-8e0d-4f00-881b-b51358174d4a"
            },
            "outputs": [
                {
                    "output_type": "display_data",
                    "data": {
                        "text/html": "(3 rows affected)"
                    },
                    "metadata": {}
                },
                {
                    "output_type": "display_data",
                    "data": {
                        "text/html": "Total execution time: 00:00:00.016"
                    },
                    "metadata": {}
                },
                {
                    "output_type": "execute_result",
                    "metadata": {},
                    "execution_count": 12,
                    "data": {
                        "application/vnd.dataresource+json": {
                            "schema": {
                                "fields": [
                                    {
                                        "name": "MEMBER_NAME"
                                    },
                                    {
                                        "name": "NO_OF_DAYS_VISITED"
                                    }
                                ]
                            },
                            "data": [
                                {
                                    "0": "A",
                                    "1": "4"
                                },
                                {
                                    "0": "B",
                                    "1": "6"
                                },
                                {
                                    "0": "C",
                                    "1": "2"
                                }
                            ]
                        },
                        "text/html": [
                            "<table>",
                            "<tr><th>MEMBER_NAME</th><th>NO_OF_DAYS_VISITED</th></tr>",
                            "<tr><td>A</td><td>4</td></tr>",
                            "<tr><td>B</td><td>6</td></tr>",
                            "<tr><td>C</td><td>2</td></tr>",
                            "</table>"
                        ]
                    }
                }
            ],
            "execution_count": 12
        },
        {
            "cell_type": "code",
            "source": [
                "/* What was the first item from the menu purchased by each customer? */\n",
                "WITH cte_order AS (\n",
                "    SELECT s.customer_id, m.product_name,\n",
                "    ROW_NUMBER() OVER(\n",
                "        PARTITION BY s.customer_id\n",
                "        ORDER BY s.order_date,\n",
                "        s.product_id\n",
                "    ) AS first_purchase\n",
                "    FROM sales AS s JOIN menu AS m\n",
                "    ON s.product_id = m.product_id\n",
                ")\n",
                "\n",
                "SELECT * from cte_order WHERE first_purchase = 1;\n",
                ""
            ],
            "metadata": {
                "azdata_cell_guid": "1faf074a-b557-4b6e-a332-3a34c8904996",
                "tags": []
            },
            "outputs": [
                {
                    "output_type": "display_data",
                    "data": {
                        "text/html": "(3 rows affected)"
                    },
                    "metadata": {}
                },
                {
                    "output_type": "display_data",
                    "data": {
                        "text/html": "Total execution time: 00:00:00.028"
                    },
                    "metadata": {}
                },
                {
                    "output_type": "execute_result",
                    "execution_count": 16,
                    "data": {
                        "application/vnd.dataresource+json": {
                            "schema": {
                                "fields": [
                                    {
                                        "name": "customer_id"
                                    },
                                    {
                                        "name": "product_name"
                                    },
                                    {
                                        "name": "first_purchase"
                                    }
                                ]
                            },
                            "data": [
                                {
                                    "0": "A",
                                    "1": "sushi",
                                    "2": "1"
                                },
                                {
                                    "0": "B",
                                    "1": "curry",
                                    "2": "1"
                                },
                                {
                                    "0": "C",
                                    "1": "ramen",
                                    "2": "1"
                                }
                            ]
                        },
                        "text/html": "<table><tr><th>customer_id</th><th>product_name</th><th>first_purchase</th></tr><tr><td>A</td><td>sushi</td><td>1</td></tr><tr><td>B</td><td>curry</td><td>1</td></tr><tr><td>C</td><td>ramen</td><td>1</td></tr></table>"
                    },
                    "metadata": {}
                }
            ],
            "execution_count": 16
        },
        {
            "cell_type": "code",
            "source": [
                "/*What is the most purchased item on the menu and how many times was it purchased by all customers?*/\n",
                "SELECT TOP 1 m.product_name, COUNT(s.product_id) AS PURCHASE_COUNT\n",
                "FROM sales AS s INNER JOIN menu AS m\n",
                "ON s.product_id = m.product_id\n",
                "GROUP BY product_name\n",
                "ORDER BY PURCHASE_COUNT DESC\n",
                ""
            ],
            "metadata": {
                "azdata_cell_guid": "da94f09a-3fb5-4c5c-b361-3f2efc3d9d60",
                "tags": []
            },
            "outputs": [
                {
                    "output_type": "display_data",
                    "data": {
                        "text/html": "(1 row affected)"
                    },
                    "metadata": {}
                },
                {
                    "output_type": "display_data",
                    "data": {
                        "text/html": "Total execution time: 00:00:00.016"
                    },
                    "metadata": {}
                },
                {
                    "output_type": "execute_result",
                    "execution_count": 12,
                    "data": {
                        "application/vnd.dataresource+json": {
                            "schema": {
                                "fields": [
                                    {
                                        "name": "product_name"
                                    },
                                    {
                                        "name": "PURCHASE_COUNT"
                                    }
                                ]
                            },
                            "data": [
                                {
                                    "0": "ramen",
                                    "1": "8"
                                }
                            ]
                        },
                        "text/html": "<table><tr><th>product_name</th><th>PURCHASE_COUNT</th></tr><tr><td>ramen</td><td>8</td></tr></table>"
                    },
                    "metadata": {}
                }
            ],
            "execution_count": 12
        },
        {
            "cell_type": "code",
            "source": [
                "/*Which item was the most popular for each customer?*/\n",
                "WITH popular_order_cte AS (\n",
                "    SELECT s.customer_id, m.product_name, COUNT(s.product_id) AS order_count,\n",
                "    ROW_NUMBER() OVER(\n",
                "        PARTITION BY s.customer_id\n",
                "        ORDER BY COUNT(s.customer_id) DESC\n",
                "    ) AS order_rank\n",
                "    FROM sales AS s JOIN menu AS m\n",
                "    ON s.product_id = m.product_id\n",
                "    GROUP BY s.customer_id, m.product_name\n",
                ")\n",
                "\n",
                "SELECT * from popular_order_cte where order_rank=1;"
            ],
            "metadata": {
                "azdata_cell_guid": "05782113-aaaf-4792-9210-524b418e5b4a",
                "tags": []
            },
            "outputs": [
                {
                    "output_type": "display_data",
                    "data": {
                        "text/html": "(3 rows affected)"
                    },
                    "metadata": {}
                },
                {
                    "output_type": "display_data",
                    "data": {
                        "text/html": "Total execution time: 00:00:00.048"
                    },
                    "metadata": {}
                },
                {
                    "output_type": "execute_result",
                    "execution_count": 2,
                    "data": {
                        "application/vnd.dataresource+json": {
                            "schema": {
                                "fields": [
                                    {
                                        "name": "customer_id"
                                    },
                                    {
                                        "name": "product_name"
                                    },
                                    {
                                        "name": "order_count"
                                    },
                                    {
                                        "name": "order_rank"
                                    }
                                ]
                            },
                            "data": [
                                {
                                    "0": "A",
                                    "1": "ramen",
                                    "2": "3",
                                    "3": "1"
                                },
                                {
                                    "0": "B",
                                    "1": "sushi",
                                    "2": "2",
                                    "3": "1"
                                },
                                {
                                    "0": "C",
                                    "1": "ramen",
                                    "2": "3",
                                    "3": "1"
                                }
                            ]
                        },
                        "text/html": "<table><tr><th>customer_id</th><th>product_name</th><th>order_count</th><th>order_rank</th></tr><tr><td>A</td><td>ramen</td><td>3</td><td>1</td></tr><tr><td>B</td><td>sushi</td><td>2</td><td>1</td></tr><tr><td>C</td><td>ramen</td><td>3</td><td>1</td></tr></table>"
                    },
                    "metadata": {}
                }
            ],
            "execution_count": 2
        },
        {
            "cell_type": "code",
            "source": [
                "/*Which item was purchased first by the customer after they became a member?*/\n",
                "WITH member_cte AS (\n",
                "    SELECT s.customer_id, mem.join_date, s.order_date, s.product_id,\n",
                "    ROW_NUMBER() OVER(\n",
                "        PARTITION BY s.customer_id\n",
                "        ORDER BY s.order_date) AS order_rank\n",
                "    FROM sales AS s JOIN members AS mem\n",
                "    ON s.customer_id = mem.customer_id\n",
                "    WHERE s.order_date >= mem.join_date\n",
                "    )\n",
                "    SELECT s.customer_id, s.order_date, m.product_name\n",
                "     from member_cte AS s JOIN menu AS m \n",
                "     ON s.product_id = m.product_id\n",
                "     WHERE order_rank = 1;\n",
                "\n",
                ""
            ],
            "metadata": {
                "azdata_cell_guid": "0ef4228d-3776-41f3-a24b-cf08db4cf332",
                "tags": []
            },
            "outputs": [
                {
                    "output_type": "display_data",
                    "data": {
                        "text/html": "(2 rows affected)"
                    },
                    "metadata": {}
                },
                {
                    "output_type": "display_data",
                    "data": {
                        "text/html": "Total execution time: 00:00:00.037"
                    },
                    "metadata": {}
                },
                {
                    "output_type": "execute_result",
                    "execution_count": 5,
                    "data": {
                        "application/vnd.dataresource+json": {
                            "schema": {
                                "fields": [
                                    {
                                        "name": "customer_id"
                                    },
                                    {
                                        "name": "order_date"
                                    },
                                    {
                                        "name": "product_name"
                                    }
                                ]
                            },
                            "data": [
                                {
                                    "0": "A",
                                    "1": "2021-01-07",
                                    "2": "curry"
                                },
                                {
                                    "0": "B",
                                    "1": "2021-01-11",
                                    "2": "sushi"
                                }
                            ]
                        },
                        "text/html": "<table><tr><th>customer_id</th><th>order_date</th><th>product_name</th></tr><tr><td>A</td><td>2021-01-07</td><td>curry</td></tr><tr><td>B</td><td>2021-01-11</td><td>sushi</td></tr></table>"
                    },
                    "metadata": {}
                }
            ],
            "execution_count": 5
        },
        {
            "cell_type": "code",
            "source": [
                "/*Which item was purchased just before the customer became a member?*/\n",
                "WITH member_cte AS (\n",
                "\n",
                "    SELECT s.customer_id, mem.join_date, s.order_date, s.product_id,\n",
                "    DENSE_RANK() OVER(\n",
                "        PARTITION BY s.customer_id\n",
                "        ORDER BY s.order_date DESC) AS order_rank\n",
                "    FROM sales AS s JOIN members AS mem\n",
                "    ON s.customer_id = mem.customer_id\n",
                "    WHERE s.order_date < mem.join_date\n",
                "    )\n",
                "    SELECT s.customer_id, s.order_date, m.product_name \n",
                "    FROM member_cte s JOIN menu m \n",
                "    ON s.product_id = m.product_id\n",
                "    WHERE order_rank=1;\n",
                "\n",
                ""
            ],
            "metadata": {
                "azdata_cell_guid": "492ca231-b461-4e18-896c-3e047d1f2c04"
            },
            "outputs": [
                {
                    "output_type": "display_data",
                    "data": {
                        "text/html": "(3 rows affected)"
                    },
                    "metadata": {}
                },
                {
                    "output_type": "display_data",
                    "data": {
                        "text/html": "Total execution time: 00:00:00.023"
                    },
                    "metadata": {}
                },
                {
                    "output_type": "execute_result",
                    "execution_count": 10,
                    "data": {
                        "application/vnd.dataresource+json": {
                            "schema": {
                                "fields": [
                                    {
                                        "name": "customer_id"
                                    },
                                    {
                                        "name": "order_date"
                                    },
                                    {
                                        "name": "product_name"
                                    }
                                ]
                            },
                            "data": [
                                {
                                    "0": "A",
                                    "1": "2021-01-01",
                                    "2": "sushi"
                                },
                                {
                                    "0": "A",
                                    "1": "2021-01-01",
                                    "2": "curry"
                                },
                                {
                                    "0": "B",
                                    "1": "2021-01-04",
                                    "2": "sushi"
                                }
                            ]
                        },
                        "text/html": "<table><tr><th>customer_id</th><th>order_date</th><th>product_name</th></tr><tr><td>A</td><td>2021-01-01</td><td>sushi</td></tr><tr><td>A</td><td>2021-01-01</td><td>curry</td></tr><tr><td>B</td><td>2021-01-04</td><td>sushi</td></tr></table>"
                    },
                    "metadata": {}
                }
            ],
            "execution_count": 10
        },
        {
            "cell_type": "code",
            "source": [
                "/*What is the total items and amount spent for each member before they became a member?*/\n",
                "SELECT s.customer_id, COUNT(s.product_id) AS items_bought, SUM(m.price) AS total_amount\n",
                "FROM sales AS s \n",
                "JOIN members AS mem\n",
                "ON s.customer_id = mem.customer_id\n",
                "JOIN menu AS m \n",
                "ON s.product_id = m.product_id\n",
                "WHERE s.order_date < mem.join_date\n",
                "GROUP BY s.customer_id;\n",
                ""
            ],
            "metadata": {
                "azdata_cell_guid": "2aed2686-3dfe-49d7-9cea-5997a8a2e7b5",
                "tags": []
            },
            "outputs": [
                {
                    "output_type": "display_data",
                    "data": {
                        "text/html": "(2 rows affected)"
                    },
                    "metadata": {}
                },
                {
                    "output_type": "display_data",
                    "data": {
                        "text/html": "Total execution time: 00:00:00.029"
                    },
                    "metadata": {}
                },
                {
                    "output_type": "execute_result",
                    "execution_count": 14,
                    "data": {
                        "application/vnd.dataresource+json": {
                            "schema": {
                                "fields": [
                                    {
                                        "name": "customer_id"
                                    },
                                    {
                                        "name": "items_bought"
                                    },
                                    {
                                        "name": "total_amount"
                                    }
                                ]
                            },
                            "data": [
                                {
                                    "0": "A",
                                    "1": "2",
                                    "2": "25"
                                },
                                {
                                    "0": "B",
                                    "1": "3",
                                    "2": "40"
                                }
                            ]
                        },
                        "text/html": "<table><tr><th>customer_id</th><th>items_bought</th><th>total_amount</th></tr><tr><td>A</td><td>2</td><td>25</td></tr><tr><td>B</td><td>3</td><td>40</td></tr></table>"
                    },
                    "metadata": {}
                }
            ],
            "execution_count": 14
        },
        {
            "cell_type": "code",
            "source": [
                "/*If each $1 spent equates to 10 points and sushi has a 2x points multiplier - how many points would each customer have?*/\n",
                "WITH points_cte AS(\n",
                "    SELECT *,\n",
                "    CASE\n",
                "    WHEN product_id= 1\n",
                "    THEN price * 20\n",
                "    ELSE price * 10\n",
                "    END AS points\n",
                "    FROM menu\n",
                ")\n",
                "SELECT s.customer_id, SUM(p.points) AS total_points\n",
                "FROM sales AS s JOIN points_cte AS p \n",
                "ON s.product_id = p.product_id\n",
                "GROUP BY s.customer_id;\n",
                ""
            ],
            "metadata": {
                "azdata_cell_guid": "a83b767a-abce-4881-adaf-8e3c174db549"
            },
            "outputs": [
                {
                    "output_type": "display_data",
                    "data": {
                        "text/html": "(3 rows affected)"
                    },
                    "metadata": {}
                },
                {
                    "output_type": "display_data",
                    "data": {
                        "text/html": "Total execution time: 00:00:00.015"
                    },
                    "metadata": {}
                },
                {
                    "output_type": "execute_result",
                    "metadata": {},
                    "execution_count": 2,
                    "data": {
                        "application/vnd.dataresource+json": {
                            "schema": {
                                "fields": [
                                    {
                                        "name": "customer_id"
                                    },
                                    {
                                        "name": "total_points"
                                    }
                                ]
                            },
                            "data": [
                                {
                                    "0": "A",
                                    "1": "860"
                                },
                                {
                                    "0": "B",
                                    "1": "940"
                                },
                                {
                                    "0": "C",
                                    "1": "360"
                                }
                            ]
                        },
                        "text/html": [
                            "<table>",
                            "<tr><th>customer_id</th><th>total_points</th></tr>",
                            "<tr><td>A</td><td>860</td></tr>",
                            "<tr><td>B</td><td>940</td></tr>",
                            "<tr><td>C</td><td>360</td></tr>",
                            "</table>"
                        ]
                    }
                }
            ],
            "execution_count": 2
        },
        {
            "cell_type": "code",
            "source": [
                "/*In the first week after a customer joins the program (including their join date) they earn 2x points on all items, not just sushi - how many points do customer A and B have at the end of January?*/\n",
                "\n",
                "/*Calculating validity of 2X POINTS PROGRAM*/\n",
                "\n",
                "WITH valid_dates_cte AS\n",
                "(\n",
                "    SELECT *,\n",
                "    DATEADD(DAY, 6, join_date) AS valid_date,\n",
                "    EOMONTH('2021-01-31') AS last_date\n",
                "    FROM members AS mem\n",
                ")\n",
                "\n",
                "SELECT v.customer_id, v.join_date, v.valid_date, v.last_date, s.order_date, m.product_name, m.price,\n",
                "SUM(CASE\n",
                "    WHEN s.order_date >= v.join_date AND s.order_date < v.valid_date THEN 2 * 10 * m.price \n",
                "    WHEN m.product_name = 'SUSHI' THEN 2 * 10 * m.price\n",
                "    ELSE 10 * m.price \n",
                "    END) AS points \n",
                "FROM valid_dates_cte AS v JOIN\n",
                "sales AS s ON v.customer_id = s.customer_id \n",
                "JOIN menu AS m \n",
                "ON s.product_id = m.product_id\n",
                "WHERE s.order_date < v.last_date\n",
                "GROUP BY v.customer_id, s.order_date, v.join_date, v.valid_date, v.last_date, m.product_name, m.price;"
            ],
            "metadata": {
                "azdata_cell_guid": "e94ed02c-bcb2-4456-bd5e-c2d3f936797d"
            },
            "outputs": [
                {
                    "output_type": "display_data",
                    "data": {
                        "text/html": "(10 rows affected)"
                    },
                    "metadata": {}
                },
                {
                    "output_type": "display_data",
                    "data": {
                        "text/html": "Total execution time: 00:00:00.087"
                    },
                    "metadata": {}
                },
                {
                    "output_type": "execute_result",
                    "metadata": {},
                    "execution_count": 11,
                    "data": {
                        "application/vnd.dataresource+json": {
                            "schema": {
                                "fields": [
                                    {
                                        "name": "customer_id"
                                    },
                                    {
                                        "name": "join_date"
                                    },
                                    {
                                        "name": "valid_date"
                                    },
                                    {
                                        "name": "last_date"
                                    },
                                    {
                                        "name": "order_date"
                                    },
                                    {
                                        "name": "product_name"
                                    },
                                    {
                                        "name": "price"
                                    },
                                    {
                                        "name": "points"
                                    }
                                ]
                            },
                            "data": [
                                {
                                    "0": "A",
                                    "1": "2021-01-07",
                                    "2": "2021-01-13",
                                    "3": "2021-01-31",
                                    "4": "2021-01-01",
                                    "5": "curry",
                                    "6": "15",
                                    "7": "150"
                                },
                                {
                                    "0": "A",
                                    "1": "2021-01-07",
                                    "2": "2021-01-13",
                                    "3": "2021-01-31",
                                    "4": "2021-01-01",
                                    "5": "sushi",
                                    "6": "10",
                                    "7": "200"
                                },
                                {
                                    "0": "A",
                                    "1": "2021-01-07",
                                    "2": "2021-01-13",
                                    "3": "2021-01-31",
                                    "4": "2021-01-07",
                                    "5": "curry",
                                    "6": "15",
                                    "7": "300"
                                },
                                {
                                    "0": "A",
                                    "1": "2021-01-07",
                                    "2": "2021-01-13",
                                    "3": "2021-01-31",
                                    "4": "2021-01-10",
                                    "5": "ramen",
                                    "6": "12",
                                    "7": "240"
                                },
                                {
                                    "0": "A",
                                    "1": "2021-01-07",
                                    "2": "2021-01-13",
                                    "3": "2021-01-31",
                                    "4": "2021-01-11",
                                    "5": "ramen",
                                    "6": "12",
                                    "7": "480"
                                },
                                {
                                    "0": "B",
                                    "1": "2021-01-09",
                                    "2": "2021-01-15",
                                    "3": "2021-01-31",
                                    "4": "2021-01-01",
                                    "5": "curry",
                                    "6": "15",
                                    "7": "150"
                                },
                                {
                                    "0": "B",
                                    "1": "2021-01-09",
                                    "2": "2021-01-15",
                                    "3": "2021-01-31",
                                    "4": "2021-01-02",
                                    "5": "curry",
                                    "6": "15",
                                    "7": "150"
                                },
                                {
                                    "0": "B",
                                    "1": "2021-01-09",
                                    "2": "2021-01-15",
                                    "3": "2021-01-31",
                                    "4": "2021-01-04",
                                    "5": "sushi",
                                    "6": "10",
                                    "7": "200"
                                },
                                {
                                    "0": "B",
                                    "1": "2021-01-09",
                                    "2": "2021-01-15",
                                    "3": "2021-01-31",
                                    "4": "2021-01-11",
                                    "5": "sushi",
                                    "6": "10",
                                    "7": "200"
                                },
                                {
                                    "0": "B",
                                    "1": "2021-01-09",
                                    "2": "2021-01-15",
                                    "3": "2021-01-31",
                                    "4": "2021-01-16",
                                    "5": "ramen",
                                    "6": "12",
                                    "7": "120"
                                }
                            ]
                        },
                        "text/html": [
                            "<table>",
                            "<tr><th>customer_id</th><th>join_date</th><th>valid_date</th><th>last_date</th><th>order_date</th><th>product_name</th><th>price</th><th>points</th></tr>",
                            "<tr><td>A</td><td>2021-01-07</td><td>2021-01-13</td><td>2021-01-31</td><td>2021-01-01</td><td>curry</td><td>15</td><td>150</td></tr>",
                            "<tr><td>A</td><td>2021-01-07</td><td>2021-01-13</td><td>2021-01-31</td><td>2021-01-01</td><td>sushi</td><td>10</td><td>200</td></tr>",
                            "<tr><td>A</td><td>2021-01-07</td><td>2021-01-13</td><td>2021-01-31</td><td>2021-01-07</td><td>curry</td><td>15</td><td>300</td></tr>",
                            "<tr><td>A</td><td>2021-01-07</td><td>2021-01-13</td><td>2021-01-31</td><td>2021-01-10</td><td>ramen</td><td>12</td><td>240</td></tr>",
                            "<tr><td>A</td><td>2021-01-07</td><td>2021-01-13</td><td>2021-01-31</td><td>2021-01-11</td><td>ramen</td><td>12</td><td>480</td></tr>",
                            "<tr><td>B</td><td>2021-01-09</td><td>2021-01-15</td><td>2021-01-31</td><td>2021-01-01</td><td>curry</td><td>15</td><td>150</td></tr>",
                            "<tr><td>B</td><td>2021-01-09</td><td>2021-01-15</td><td>2021-01-31</td><td>2021-01-02</td><td>curry</td><td>15</td><td>150</td></tr>",
                            "<tr><td>B</td><td>2021-01-09</td><td>2021-01-15</td><td>2021-01-31</td><td>2021-01-04</td><td>sushi</td><td>10</td><td>200</td></tr>",
                            "<tr><td>B</td><td>2021-01-09</td><td>2021-01-15</td><td>2021-01-31</td><td>2021-01-11</td><td>sushi</td><td>10</td><td>200</td></tr>",
                            "<tr><td>B</td><td>2021-01-09</td><td>2021-01-15</td><td>2021-01-31</td><td>2021-01-16</td><td>ramen</td><td>12</td><td>120</td></tr>",
                            "</table>"
                        ]
                    }
                }
            ],
            "execution_count": 11
        },
        {
            "cell_type": "code",
            "source": [
                "/*BONUS QUESTION ONE*/\n",
                "SELECT s.customer_id, s.order_date, m.product_name, m.price,\n",
                "CASE \n",
                "    WHEN mem.join_date > s.order_date THEN 'N'\n",
                "    WHEN mem.join_date <= s.order_date THEN 'Y'\n",
                "    ELSE 'N'\n",
                "    END AS valid_member\n",
                "FROM sales AS s LEFT JOIN menu AS m ON s.product_id = m.product_id \n",
                "LEFT JOIN members AS mem\n",
                "ON s.customer_id = mem.customer_id;"
            ],
            "metadata": {
                "azdata_cell_guid": "e1e84060-bef3-4aef-b897-c11d1da176c7",
                "tags": []
            },
            "outputs": [
                {
                    "output_type": "display_data",
                    "data": {
                        "text/html": "(15 rows affected)"
                    },
                    "metadata": {}
                },
                {
                    "output_type": "display_data",
                    "data": {
                        "text/html": "Total execution time: 00:00:00.028"
                    },
                    "metadata": {}
                },
                {
                    "output_type": "execute_result",
                    "metadata": {},
                    "execution_count": 5,
                    "data": {
                        "application/vnd.dataresource+json": {
                            "schema": {
                                "fields": [
                                    {
                                        "name": "customer_id"
                                    },
                                    {
                                        "name": "order_date"
                                    },
                                    {
                                        "name": "product_name"
                                    },
                                    {
                                        "name": "price"
                                    },
                                    {
                                        "name": "valid_member"
                                    }
                                ]
                            },
                            "data": [
                                {
                                    "0": "A",
                                    "1": "2021-01-01",
                                    "2": "sushi",
                                    "3": "10",
                                    "4": "N"
                                },
                                {
                                    "0": "A",
                                    "1": "2021-01-01",
                                    "2": "curry",
                                    "3": "15",
                                    "4": "N"
                                },
                                {
                                    "0": "A",
                                    "1": "2021-01-07",
                                    "2": "curry",
                                    "3": "15",
                                    "4": "Y"
                                },
                                {
                                    "0": "A",
                                    "1": "2021-01-10",
                                    "2": "ramen",
                                    "3": "12",
                                    "4": "Y"
                                },
                                {
                                    "0": "A",
                                    "1": "2021-01-11",
                                    "2": "ramen",
                                    "3": "12",
                                    "4": "Y"
                                },
                                {
                                    "0": "A",
                                    "1": "2021-01-11",
                                    "2": "ramen",
                                    "3": "12",
                                    "4": "Y"
                                },
                                {
                                    "0": "B",
                                    "1": "2021-01-01",
                                    "2": "curry",
                                    "3": "15",
                                    "4": "N"
                                },
                                {
                                    "0": "B",
                                    "1": "2021-01-02",
                                    "2": "curry",
                                    "3": "15",
                                    "4": "N"
                                },
                                {
                                    "0": "B",
                                    "1": "2021-01-04",
                                    "2": "sushi",
                                    "3": "10",
                                    "4": "N"
                                },
                                {
                                    "0": "B",
                                    "1": "2021-01-11",
                                    "2": "sushi",
                                    "3": "10",
                                    "4": "Y"
                                },
                                {
                                    "0": "B",
                                    "1": "2021-01-16",
                                    "2": "ramen",
                                    "3": "12",
                                    "4": "Y"
                                },
                                {
                                    "0": "B",
                                    "1": "2021-02-01",
                                    "2": "ramen",
                                    "3": "12",
                                    "4": "Y"
                                },
                                {
                                    "0": "C",
                                    "1": "2021-01-01",
                                    "2": "ramen",
                                    "3": "12",
                                    "4": "N"
                                },
                                {
                                    "0": "C",
                                    "1": "2021-01-01",
                                    "2": "ramen",
                                    "3": "12",
                                    "4": "N"
                                },
                                {
                                    "0": "C",
                                    "1": "2021-01-07",
                                    "2": "ramen",
                                    "3": "12",
                                    "4": "N"
                                }
                            ]
                        },
                        "text/html": [
                            "<table>",
                            "<tr><th>customer_id</th><th>order_date</th><th>product_name</th><th>price</th><th>valid_member</th></tr>",
                            "<tr><td>A</td><td>2021-01-01</td><td>sushi</td><td>10</td><td>N</td></tr>",
                            "<tr><td>A</td><td>2021-01-01</td><td>curry</td><td>15</td><td>N</td></tr>",
                            "<tr><td>A</td><td>2021-01-07</td><td>curry</td><td>15</td><td>Y</td></tr>",
                            "<tr><td>A</td><td>2021-01-10</td><td>ramen</td><td>12</td><td>Y</td></tr>",
                            "<tr><td>A</td><td>2021-01-11</td><td>ramen</td><td>12</td><td>Y</td></tr>",
                            "<tr><td>A</td><td>2021-01-11</td><td>ramen</td><td>12</td><td>Y</td></tr>",
                            "<tr><td>B</td><td>2021-01-01</td><td>curry</td><td>15</td><td>N</td></tr>",
                            "<tr><td>B</td><td>2021-01-02</td><td>curry</td><td>15</td><td>N</td></tr>",
                            "<tr><td>B</td><td>2021-01-04</td><td>sushi</td><td>10</td><td>N</td></tr>",
                            "<tr><td>B</td><td>2021-01-11</td><td>sushi</td><td>10</td><td>Y</td></tr>",
                            "<tr><td>B</td><td>2021-01-16</td><td>ramen</td><td>12</td><td>Y</td></tr>",
                            "<tr><td>B</td><td>2021-02-01</td><td>ramen</td><td>12</td><td>Y</td></tr>",
                            "<tr><td>C</td><td>2021-01-01</td><td>ramen</td><td>12</td><td>N</td></tr>",
                            "<tr><td>C</td><td>2021-01-01</td><td>ramen</td><td>12</td><td>N</td></tr>",
                            "<tr><td>C</td><td>2021-01-07</td><td>ramen</td><td>12</td><td>N</td></tr>",
                            "</table>"
                        ]
                    }
                }
            ],
            "execution_count": 5
        },
        {
            "cell_type": "code",
            "source": [
                "/*Bonus Question Two*/\n",
                "WITH overall_rank_cte AS(\n",
                "SELECT s.customer_id, s.order_date, m.product_name, m.price,\n",
                "CASE \n",
                "    WHEN mem.join_date > s.order_date THEN 'N'\n",
                "    WHEN mem.join_date <= s.order_date THEN 'Y'\n",
                "    ELSE 'N'\n",
                "    END AS valid_member\n",
                "FROM sales AS s LEFT JOIN menu AS m ON s.product_id = m.product_id \n",
                "LEFT JOIN members AS mem\n",
                "ON s.customer_id = mem.customer_id\n",
                ")\n",
                "\n",
                "SELECT *,\n",
                "CASE\n",
                "WHEN valid_member = 'N' THEN NULL\n",
                "ELSE\n",
                "RANK () OVER(PARTITION BY customer_id, valid_member\n",
                "ORDER BY order_date) \n",
                "END AS member_ranking\n",
                "FROM overall_rank_cte;\n",
                ""
            ],
            "metadata": {
                "azdata_cell_guid": "a55f5405-8284-4a85-871b-fa4983549d5a"
            },
            "outputs": [
                {
                    "output_type": "display_data",
                    "data": {
                        "text/html": "(15 rows affected)"
                    },
                    "metadata": {}
                },
                {
                    "output_type": "display_data",
                    "data": {
                        "text/html": "Total execution time: 00:00:00.021"
                    },
                    "metadata": {}
                },
                {
                    "output_type": "execute_result",
                    "metadata": {},
                    "execution_count": 8,
                    "data": {
                        "application/vnd.dataresource+json": {
                            "schema": {
                                "fields": [
                                    {
                                        "name": "customer_id"
                                    },
                                    {
                                        "name": "order_date"
                                    },
                                    {
                                        "name": "product_name"
                                    },
                                    {
                                        "name": "price"
                                    },
                                    {
                                        "name": "valid_member"
                                    },
                                    {
                                        "name": "member_ranking"
                                    }
                                ]
                            },
                            "data": [
                                {
                                    "0": "A",
                                    "1": "2021-01-01",
                                    "2": "sushi",
                                    "3": "10",
                                    "4": "N",
                                    "5": "NULL"
                                },
                                {
                                    "0": "A",
                                    "1": "2021-01-01",
                                    "2": "curry",
                                    "3": "15",
                                    "4": "N",
                                    "5": "NULL"
                                },
                                {
                                    "0": "A",
                                    "1": "2021-01-07",
                                    "2": "curry",
                                    "3": "15",
                                    "4": "Y",
                                    "5": "1"
                                },
                                {
                                    "0": "A",
                                    "1": "2021-01-10",
                                    "2": "ramen",
                                    "3": "12",
                                    "4": "Y",
                                    "5": "2"
                                },
                                {
                                    "0": "A",
                                    "1": "2021-01-11",
                                    "2": "ramen",
                                    "3": "12",
                                    "4": "Y",
                                    "5": "3"
                                },
                                {
                                    "0": "A",
                                    "1": "2021-01-11",
                                    "2": "ramen",
                                    "3": "12",
                                    "4": "Y",
                                    "5": "3"
                                },
                                {
                                    "0": "B",
                                    "1": "2021-01-01",
                                    "2": "curry",
                                    "3": "15",
                                    "4": "N",
                                    "5": "NULL"
                                },
                                {
                                    "0": "B",
                                    "1": "2021-01-02",
                                    "2": "curry",
                                    "3": "15",
                                    "4": "N",
                                    "5": "NULL"
                                },
                                {
                                    "0": "B",
                                    "1": "2021-01-04",
                                    "2": "sushi",
                                    "3": "10",
                                    "4": "N",
                                    "5": "NULL"
                                },
                                {
                                    "0": "B",
                                    "1": "2021-01-11",
                                    "2": "sushi",
                                    "3": "10",
                                    "4": "Y",
                                    "5": "1"
                                },
                                {
                                    "0": "B",
                                    "1": "2021-01-16",
                                    "2": "ramen",
                                    "3": "12",
                                    "4": "Y",
                                    "5": "2"
                                },
                                {
                                    "0": "B",
                                    "1": "2021-02-01",
                                    "2": "ramen",
                                    "3": "12",
                                    "4": "Y",
                                    "5": "3"
                                },
                                {
                                    "0": "C",
                                    "1": "2021-01-01",
                                    "2": "ramen",
                                    "3": "12",
                                    "4": "N",
                                    "5": "NULL"
                                },
                                {
                                    "0": "C",
                                    "1": "2021-01-01",
                                    "2": "ramen",
                                    "3": "12",
                                    "4": "N",
                                    "5": "NULL"
                                },
                                {
                                    "0": "C",
                                    "1": "2021-01-07",
                                    "2": "ramen",
                                    "3": "12",
                                    "4": "N",
                                    "5": "NULL"
                                }
                            ]
                        },
                        "text/html": [
                            "<table>",
                            "<tr><th>customer_id</th><th>order_date</th><th>product_name</th><th>price</th><th>valid_member</th><th>member_ranking</th></tr>",
                            "<tr><td>A</td><td>2021-01-01</td><td>sushi</td><td>10</td><td>N</td><td>NULL</td></tr>",
                            "<tr><td>A</td><td>2021-01-01</td><td>curry</td><td>15</td><td>N</td><td>NULL</td></tr>",
                            "<tr><td>A</td><td>2021-01-07</td><td>curry</td><td>15</td><td>Y</td><td>1</td></tr>",
                            "<tr><td>A</td><td>2021-01-10</td><td>ramen</td><td>12</td><td>Y</td><td>2</td></tr>",
                            "<tr><td>A</td><td>2021-01-11</td><td>ramen</td><td>12</td><td>Y</td><td>3</td></tr>",
                            "<tr><td>A</td><td>2021-01-11</td><td>ramen</td><td>12</td><td>Y</td><td>3</td></tr>",
                            "<tr><td>B</td><td>2021-01-01</td><td>curry</td><td>15</td><td>N</td><td>NULL</td></tr>",
                            "<tr><td>B</td><td>2021-01-02</td><td>curry</td><td>15</td><td>N</td><td>NULL</td></tr>",
                            "<tr><td>B</td><td>2021-01-04</td><td>sushi</td><td>10</td><td>N</td><td>NULL</td></tr>",
                            "<tr><td>B</td><td>2021-01-11</td><td>sushi</td><td>10</td><td>Y</td><td>1</td></tr>",
                            "<tr><td>B</td><td>2021-01-16</td><td>ramen</td><td>12</td><td>Y</td><td>2</td></tr>",
                            "<tr><td>B</td><td>2021-02-01</td><td>ramen</td><td>12</td><td>Y</td><td>3</td></tr>",
                            "<tr><td>C</td><td>2021-01-01</td><td>ramen</td><td>12</td><td>N</td><td>NULL</td></tr>",
                            "<tr><td>C</td><td>2021-01-01</td><td>ramen</td><td>12</td><td>N</td><td>NULL</td></tr>",
                            "<tr><td>C</td><td>2021-01-07</td><td>ramen</td><td>12</td><td>N</td><td>NULL</td></tr>",
                            "</table>"
                        ]
                    }
                }
            ],
            "execution_count": 8
        }
    ]
}